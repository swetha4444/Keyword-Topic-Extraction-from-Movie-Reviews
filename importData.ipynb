{
 "metadata": {
  "language_info": {
   "codemirror_mode": {
    "name": "ipython",
    "version": 3
   },
   "file_extension": ".py",
   "mimetype": "text/x-python",
   "name": "python",
   "nbconvert_exporter": "python",
   "pygments_lexer": "ipython3",
   "version": "3.8.5"
  },
  "orig_nbformat": 2,
  "kernelspec": {
   "name": "python385jvsc74a57bd095c10dbc6f7eccef0c1ace84822d618f7863d3bc26cab307fc0169bb43c23fbe",
   "display_name": "Python 3.8.5 64-bit ('base': conda)"
  }
 },
 "nbformat": 4,
 "nbformat_minor": 2,
 "cells": [
  {
   "cell_type": "code",
   "execution_count": 15,
   "metadata": {},
   "outputs": [],
   "source": [
    "import pandas as pd \n",
    "import numpy as np\n",
    "import os\n",
    "import pyprind\n",
    "import matplotlib.pyplot as plt "
   ]
  },
  {
   "cell_type": "code",
   "execution_count": 12,
   "metadata": {},
   "outputs": [
    {
     "output_type": "stream",
     "name": "stderr",
     "text": [
      "[100 %] Time elapsed: 00:32:13 | ETA: 00:00:00\n",
      "Total time elapsed: 00:32:13\n"
     ]
    }
   ],
   "source": [
    "dataframe = pd.DataFrame()\n",
    "# Nested for loops to iterate text files over subdirectories\n",
    "for s in ('test', 'train'):\n",
    "    for n in ('pos', 'neg'):\n",
    "        path ='./aclImdb/%s/%s' % (s, n)\n",
    "        for file in os.listdir(path):\n",
    "            with open(os.path.join(path, file), encoding=\"utf8\") as infile:\n",
    "                text = infile.read()\n",
    "            dataframe = dataframe.append([[text, labels[n]]], ignore_index=True)\n",
    "            pper.update()        \n",
    "dataframe.columns = ['review', 'sentiment']"
   ]
  },
  {
   "cell_type": "code",
   "execution_count": 16,
   "metadata": {},
   "outputs": [
    {
     "output_type": "stream",
     "name": "stdout",
     "text": [
      "CVS file is created\n"
     ]
    }
   ],
   "source": [
    "np.random.seed(0)\n",
    "# Shuffle data\n",
    "dataframe = dataframe.reindex(np.random.permutation(dataframe.index))\n",
    "\n",
    "# Convert into a single CSV file.\n",
    "dataframe.to_csv('./reviews.csv', index=False)\n",
    "\n",
    "print(\"CVS file is created\")"
   ]
  },
  {
   "cell_type": "code",
   "execution_count": 17,
   "metadata": {},
   "outputs": [
    {
     "output_type": "execute_result",
     "data": {
      "text/plain": [
       "                                                  review  sentiment\n",
       "11841  In 1974, the teenager Martha Moxley (Maggie Gr...          1\n",
       "19385  This is a terrible film. Angie Dickenson is a ...          0\n",
       "16311  This is supposed to be Charlie's masterpiece, ...          0\n",
       "19379  In order for a thriller to elicit fear, suspen...          0\n",
       "36752  The Perfect Son is a story about two 30-someth...          1"
      ],
      "text/html": "<div>\n<style scoped>\n    .dataframe tbody tr th:only-of-type {\n        vertical-align: middle;\n    }\n\n    .dataframe tbody tr th {\n        vertical-align: top;\n    }\n\n    .dataframe thead th {\n        text-align: right;\n    }\n</style>\n<table border=\"1\" class=\"dataframe\">\n  <thead>\n    <tr style=\"text-align: right;\">\n      <th></th>\n      <th>review</th>\n      <th>sentiment</th>\n    </tr>\n  </thead>\n  <tbody>\n    <tr>\n      <th>11841</th>\n      <td>In 1974, the teenager Martha Moxley (Maggie Gr...</td>\n      <td>1</td>\n    </tr>\n    <tr>\n      <th>19385</th>\n      <td>This is a terrible film. Angie Dickenson is a ...</td>\n      <td>0</td>\n    </tr>\n    <tr>\n      <th>16311</th>\n      <td>This is supposed to be Charlie's masterpiece, ...</td>\n      <td>0</td>\n    </tr>\n    <tr>\n      <th>19379</th>\n      <td>In order for a thriller to elicit fear, suspen...</td>\n      <td>0</td>\n    </tr>\n    <tr>\n      <th>36752</th>\n      <td>The Perfect Son is a story about two 30-someth...</td>\n      <td>1</td>\n    </tr>\n  </tbody>\n</table>\n</div>"
     },
     "metadata": {},
     "execution_count": 17
    }
   ],
   "source": [
    "dataframe.head()"
   ]
  }
 ]
}