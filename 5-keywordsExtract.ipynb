{
 "metadata": {
  "language_info": {
   "codemirror_mode": {
    "name": "ipython",
    "version": 3
   },
   "file_extension": ".py",
   "mimetype": "text/x-python",
   "name": "python",
   "nbconvert_exporter": "python",
   "pygments_lexer": "ipython3",
   "version": "3.8.5"
  },
  "orig_nbformat": 4,
  "kernelspec": {
   "name": "python3",
   "display_name": "Python 3.8.5 64-bit ('base': conda)"
  },
  "interpreter": {
   "hash": "95c10dbc6f7eccef0c1ace84822d618f7863d3bc26cab307fc0169bb43c23fbe"
  }
 },
 "nbformat": 4,
 "nbformat_minor": 2,
 "cells": [
  {
   "cell_type": "code",
   "execution_count": 1,
   "metadata": {},
   "outputs": [],
   "source": [
    "import pandas as pd \n",
    "import numpy as np\n",
    "import os\n",
    "import pyprind\n",
    "import matplotlib.pyplot as plt"
   ]
  },
  {
   "cell_type": "code",
   "execution_count": 2,
   "metadata": {},
   "outputs": [
    {
     "output_type": "execute_result",
     "data": {
      "text/plain": [
       "                                              review  sentiment  \\\n",
       "0  In 1974, the teenager Martha Moxley (Maggie Gr...          1   \n",
       "1  This is a terrible film. Angie Dickenson is a ...          0   \n",
       "2  This is supposed to be Charlie's masterpiece, ...          0   \n",
       "3  In order for a thriller to elicit fear, suspen...          0   \n",
       "4  The Perfect Son is a story about two 30-someth...          1   \n",
       "\n",
       "                                      processed_text  \n",
       "0   teenager martha moxley maggie grace move high...  \n",
       "1  terrible film angie dickenson class act always...  \n",
       "2  supposed charlies masterpiece contend actually...  \n",
       "3  order thriller elicit fear suspense emotion st...  \n",
       "4  perfect son story two something brother one se...  "
      ],
      "text/html": "<div>\n<style scoped>\n    .dataframe tbody tr th:only-of-type {\n        vertical-align: middle;\n    }\n\n    .dataframe tbody tr th {\n        vertical-align: top;\n    }\n\n    .dataframe thead th {\n        text-align: right;\n    }\n</style>\n<table border=\"1\" class=\"dataframe\">\n  <thead>\n    <tr style=\"text-align: right;\">\n      <th></th>\n      <th>review</th>\n      <th>sentiment</th>\n      <th>processed_text</th>\n    </tr>\n  </thead>\n  <tbody>\n    <tr>\n      <th>0</th>\n      <td>In 1974, the teenager Martha Moxley (Maggie Gr...</td>\n      <td>1</td>\n      <td>teenager martha moxley maggie grace move high...</td>\n    </tr>\n    <tr>\n      <th>1</th>\n      <td>This is a terrible film. Angie Dickenson is a ...</td>\n      <td>0</td>\n      <td>terrible film angie dickenson class act always...</td>\n    </tr>\n    <tr>\n      <th>2</th>\n      <td>This is supposed to be Charlie's masterpiece, ...</td>\n      <td>0</td>\n      <td>supposed charlies masterpiece contend actually...</td>\n    </tr>\n    <tr>\n      <th>3</th>\n      <td>In order for a thriller to elicit fear, suspen...</td>\n      <td>0</td>\n      <td>order thriller elicit fear suspense emotion st...</td>\n    </tr>\n    <tr>\n      <th>4</th>\n      <td>The Perfect Son is a story about two 30-someth...</td>\n      <td>1</td>\n      <td>perfect son story two something brother one se...</td>\n    </tr>\n  </tbody>\n</table>\n</div>"
     },
     "metadata": {},
     "execution_count": 2
    }
   ],
   "source": [
    "dataframe = pd.read_csv('clean_reviews.csv')\n",
    "dataframe.head()"
   ]
  },
  {
   "source": [
    "## Candidate Keywords\n"
   ],
   "cell_type": "markdown",
   "metadata": {}
  },
  {
   "cell_type": "code",
   "execution_count": 3,
   "metadata": {},
   "outputs": [],
   "source": [
    "from sklearn.feature_extraction.text import CountVectorizer\n",
    "n_gram_range = (1, 1)\n",
    "stop_words = \"english\""
   ]
  },
  {
   "source": [
    "## Embeddings"
   ],
   "cell_type": "markdown",
   "metadata": {}
  },
  {
   "cell_type": "code",
   "execution_count": 4,
   "metadata": {},
   "outputs": [],
   "source": [
    "from sentence_transformers import SentenceTransformer\n",
    "model = SentenceTransformer('distilbert-base-nli-mean-tokens')"
   ]
  },
  {
   "source": [
    "## Cosine Similarity"
   ],
   "cell_type": "markdown",
   "metadata": {}
  },
  {
   "cell_type": "code",
   "execution_count": 5,
   "metadata": {},
   "outputs": [],
   "source": [
    "#  We take the top 5 most similar candidates to the input document as the resulting keywords\n",
    "from sklearn.metrics.pairwise import cosine_similarity\n",
    "top_n = 5\n",
    "dataframe[\"keywords\"] = None"
   ]
  },
  {
   "source": [
    "## Extracting key words for a input review"
   ],
   "cell_type": "markdown",
   "metadata": {}
  },
  {
   "cell_type": "code",
   "execution_count": 10,
   "metadata": {},
   "outputs": [
    {
     "output_type": "stream",
     "name": "stdout",
     "text": [
      "Keywords of review 1 : \n\t\t ['terrible', 'moronic', 'dreadful', 'horrid', 'scariest']\n"
     ]
    }
   ],
   "source": [
    "i = int(input(\"Enter record index to get the key words: \"))\n",
    "doc = dataframe.processed_text[i]\n",
    "count = CountVectorizer(ngram_range=n_gram_range, stop_words=stop_words).fit([doc])\n",
    "candidates = count.get_feature_names()\n",
    "doc_embedding = model.encode([doc])\n",
    "candidate_embeddings = model.encode(candidates)\n",
    "distances = cosine_similarity(doc_embedding,candidate_embeddings)\n",
    "keywords = [candidates[index] for index in distances.argsort()[0][-top_n:]]\n",
    "print(\"Keywords of review\",i,\": \")\n",
    "print(\"\\t\\t\",keywords)"
   ]
  }
 ]
}